{
 "cells": [
  {
   "cell_type": "code",
   "execution_count": 2,
   "id": "c56cfcda-afd0-4cdc-abf4-918d0b9e5432",
   "metadata": {},
   "outputs": [
    {
     "name": "stderr",
     "output_type": "stream",
     "text": [
      "2022-03-19 18:06:47.677 \n",
      "  \u001b[33m\u001b[1mWarning:\u001b[0m to view this Streamlit app on a browser, run it with the following\n",
      "  command:\n",
      "\n",
      "    streamlit run C:\\Users\\john.kuang\\.conda\\envs\\st\\lib\\site-packages\\ipykernel_launcher.py [ARGUMENTS]\n"
     ]
    }
   ],
   "source": [
    "import streamlit as st\n",
    "from streamlit_multipage import MultiPage\n",
    "\n",
    "\n",
    "def input_page(st, **state):\n",
    "    st.title(\"Body Mass Index\")\n",
    "\n",
    "    weight_ = state[\"weight\"] if \"weight\" in state else 0.0\n",
    "    weight = st.number_input(\"Your weight (Kg): \", value=weight_)\n",
    "\n",
    "    height_ = state[\"height\"] if \"height\" in state else 0.0\n",
    "    height = st.number_input(\"Your height (m): \", value=height_)\n",
    "\n",
    "    if height and weight:\n",
    "        MultiPage.save({\"weight\": weight, \"height\": height})\n",
    "\n",
    "\n",
    "def compute_page(st, **state):\n",
    "    st.title(\"Body Mass Index\")\n",
    "\n",
    "    if \"weight\" not in state or \"height\" not in state:\n",
    "        st.warning(\"Enter your data before computing. Go to the Input Page\")\n",
    "        return\n",
    "\n",
    "    weight = state[\"weight\"]\n",
    "    height = state[\"height\"]\n",
    "\n",
    "    st.metric(\"BMI\", round(weight / height ** 2, 2))\n",
    "\n",
    "\n",
    "app = MultiPage()\n",
    "app.st = st\n",
    "\n",
    "app.add_app(\"Input Page\", input_page)\n",
    "app.add_app(\"BMI Result\", compute_page)\n",
    "\n",
    "app.run()"
   ]
  },
  {
   "cell_type": "code",
   "execution_count": null,
   "id": "d6f3ec40-cf95-49aa-8120-c4d1b47dc11b",
   "metadata": {},
   "outputs": [],
   "source": []
  }
 ],
 "metadata": {
  "kernelspec": {
   "display_name": "Python 3 (ipykernel)",
   "language": "python",
   "name": "python3"
  },
  "language_info": {
   "codemirror_mode": {
    "name": "ipython",
    "version": 3
   },
   "file_extension": ".py",
   "mimetype": "text/x-python",
   "name": "python",
   "nbconvert_exporter": "python",
   "pygments_lexer": "ipython3",
   "version": "3.9.7"
  }
 },
 "nbformat": 4,
 "nbformat_minor": 5
}
