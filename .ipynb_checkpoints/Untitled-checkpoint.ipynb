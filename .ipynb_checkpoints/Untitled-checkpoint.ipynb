{
 "cells": [
  {
   "cell_type": "code",
   "execution_count": 65,
   "id": "963e703f-ed74-4f72-897f-856b9ee68320",
   "metadata": {},
   "outputs": [],
   "source": [
    "import streamlit as st\n",
    "import pandas as pd\n",
    "import numpy as np\n",
    "\n",
    "from patsy import dmatrices\n",
    "import statsmodels.api as sm\n",
    "from sklearn.metrics import r2_score, mean_squared_error, mean_absolute_error\n",
    "from statsmodels.sandbox.regression.predstd import wls_prediction_std\n",
    "\n",
    "import matplotlib as mpl\n",
    "import matplotlib.pyplot as plt\n",
    "import seaborn as sns\n",
    "import base64\n",
    "import os\n",
    "\n",
    "import locale\n",
    "\n",
    "from PE_Functions import *\n",
    "from pathlib import Path\n",
    "\n",
    "import xlsxwriter\n",
    "from io import BytesIO"
   ]
  },
  {
   "cell_type": "code",
   "execution_count": 78,
   "id": "dca76923-45b4-4171-b0b8-2031abdc65d9",
   "metadata": {},
   "outputs": [],
   "source": [
    "df = pd.read_excel(r'Data\\Pay Equity Demo.xlsx',sheet_name=\"Submission\")"
   ]
  },
  {
   "cell_type": "code",
   "execution_count": 79,
   "id": "c166d6e5-f4c1-4a76-b4aa-80ac2792604a",
   "metadata": {},
   "outputs": [
    {
     "data": {
      "text/plain": [
       "(927, 27)"
      ]
     },
     "execution_count": 79,
     "metadata": {},
     "output_type": "execute_result"
    }
   ],
   "source": [
    "df.shape"
   ]
  },
  {
   "cell_type": "code",
   "execution_count": 80,
   "id": "bc0c6702-3002-4f7e-b31d-fea89496cfbd",
   "metadata": {},
   "outputs": [],
   "source": [
    "df_type = df.iloc[0]\n",
    "df = df.iloc[1:]"
   ]
  },
  {
   "cell_type": "code",
   "execution_count": 81,
   "id": "4a5e102c-00a4-4800-8714-b4f98c278f3d",
   "metadata": {},
   "outputs": [
    {
     "data": {
      "text/plain": [
       "(926, 27)"
      ]
     },
     "execution_count": 81,
     "metadata": {},
     "output_type": "execute_result"
    }
   ],
   "source": [
    "df.shape"
   ]
  },
  {
   "cell_type": "code",
   "execution_count": 82,
   "id": "6fd3967c-c1f9-49ac-a3ee-fa4b2a42f27f",
   "metadata": {},
   "outputs": [],
   "source": [
    "cust_name = ['PAY_DRIVER_1',\n",
    " 'PAY_DRIVER_2',\n",
    " 'PAY_DRIVER_3',\n",
    " 'PAY_DRIVER_4',\n",
    " 'PAY_DRIVER_5',\n",
    " 'PAY_DRIVER_6',\n",
    " 'PAY_DRIVER_7',\n",
    " 'PAY_DRIVER_8',\n",
    " 'PAY_DRIVER_9',\n",
    " 'PAY_DRIVER_10']"
   ]
  },
  {
   "cell_type": "code",
   "execution_count": 83,
   "id": "2329c72b-c08b-4a1b-87a4-dcab54dc3d34",
   "metadata": {},
   "outputs": [],
   "source": [
    "standard_col = ['SNAPSHOT_DATE','EEID','SALARY','GENDER','ETHNICITY',\n",
    "                'JOB_LEVEL_OR_COMP_GRADE','JOB_FUNCTION','COUNTRY','LOCATION','FULL_TIME',\n",
    "                'EXEMPT','PEOPLE_MANAGER','EDUCATION','PROMOTION','PERFORMANCE','DATE_OF_BIRTH','DATE_OF_HIRE']"
   ]
  },
  {
   "cell_type": "code",
   "execution_count": 84,
   "id": "c3c65fee-d613-41ed-aa64-7b727d2aee9b",
   "metadata": {},
   "outputs": [],
   "source": [
    "all_col = df.columns.tolist()"
   ]
  },
  {
   "cell_type": "code",
   "execution_count": 86,
   "id": "44ab1c9a-7bea-4aa5-b640-22b593382ba9",
   "metadata": {},
   "outputs": [],
   "source": [
    "cust_col = [x for x in all_col if x not in standard_col]"
   ]
  },
  {
   "cell_type": "code",
   "execution_count": 87,
   "id": "cd90c7db-b2c4-4c44-b6dd-b08f41a76c1e",
   "metadata": {},
   "outputs": [],
   "source": [
    "cus_rename_dict = dict(zip(cust_col, cust_name))"
   ]
  },
  {
   "cell_type": "code",
   "execution_count": 88,
   "id": "898c7016-b833-48e9-b368-9c2fb3ec3d7f",
   "metadata": {},
   "outputs": [],
   "source": [
    "df_type = pd.DataFrame(df_type).reset_index()\n",
    "df_type.columns = ['COL_NAME','TYPE']\n",
    "df_type = df_type[~df_type['COL_NAME'].isin(standard_col)]"
   ]
  },
  {
   "cell_type": "code",
   "execution_count": 90,
   "id": "7d684931-3987-4bf5-8619-0c3a8dbd3413",
   "metadata": {},
   "outputs": [
    {
     "name": "stdout",
     "output_type": "stream",
     "text": [
      "numeric\n",
      "numeric\n",
      "numeric\n",
      "numeric\n",
      "numeric\n",
      "string\n",
      "string\n",
      "string\n",
      "string\n",
      "string\n"
     ]
    }
   ],
   "source": [
    "for index, row in df_type.iterrows():\n",
    "    print(row['TYPE'])"
   ]
  },
  {
   "cell_type": "code",
   "execution_count": 28,
   "id": "09089de4-c675-4e53-b629-b4007de125bb",
   "metadata": {},
   "outputs": [],
   "source": [
    "# df = df.rename(columns=cus_rename_dict)"
   ]
  },
  {
   "cell_type": "code",
   "execution_count": 9,
   "id": "e4f6a7e3-4b0f-49e7-afb8-12254c4d25b5",
   "metadata": {},
   "outputs": [],
   "source": [
    "df_name = pd.read_excel(r'Data\\Display Name.xlsx',sheet_name=\"Sheet1\")"
   ]
  },
  {
   "cell_type": "code",
   "execution_count": 14,
   "id": "7eb40814-dfe4-469d-9779-d4feaabb80de",
   "metadata": {},
   "outputs": [
    {
     "data": {
      "text/plain": [
       "{'SNAPSHOT_DATE': 'Snapshot Date',\n",
       " 'EEID': 'Employee ID',\n",
       " 'SALARY': 'Salary',\n",
       " 'GENDER': 'Gender',\n",
       " 'ETHNICITY': 'Ethnicity',\n",
       " 'JOB_LEVEL_OR_COMP_GRADE': 'Job level or Compensation Grade',\n",
       " 'JOB_FUNCTION': 'Job Function',\n",
       " 'LOCATION': 'Location',\n",
       " 'FULL_TIME': 'Full time status',\n",
       " 'FLSA_EXEMPT': 'FLSA status',\n",
       " 'PEOPLE_MANAGER': 'Is Manager?',\n",
       " 'EDUCATION': 'Education',\n",
       " 'PROMOTION': 'Promotion in last 12 months?',\n",
       " 'PERFORMANCE': 'Performance in last 12 months',\n",
       " 'DATE_OF_BIRTH': 'Date of Birth',\n",
       " 'DATE_OF_HIRE': 'Date of Hire'}"
      ]
     },
     "execution_count": 14,
     "metadata": {},
     "output_type": "execute_result"
    }
   ],
   "source": [
    "display_map = dict(zip(df_name['PROGRAM_NAME'], df_name['DISPLAY_NAME']))\n",
    "display_map"
   ]
  },
  {
   "cell_type": "code",
   "execution_count": 12,
   "id": "acf217eb-6e4f-4f31-8d26-31ee43dd482a",
   "metadata": {},
   "outputs": [],
   "source": [
    "test = ['EEID','PEOPLE_MANAGER','DATE_OF_HIRE']"
   ]
  },
  {
   "cell_type": "code",
   "execution_count": 17,
   "id": "2749ec94-2de0-473e-a2ec-8cbd96fad16f",
   "metadata": {},
   "outputs": [],
   "source": [
    "subs = {v:k for k, v in display_map.items()}"
   ]
  },
  {
   "cell_type": "code",
   "execution_count": 19,
   "id": "26a54f96-17ab-4ed6-900d-2649b309f8c4",
   "metadata": {},
   "outputs": [
    {
     "data": {
      "text/plain": [
       "['Employee ID', 'Is Manager?', 'Date of Hire']"
      ]
     },
     "execution_count": 19,
     "metadata": {},
     "output_type": "execute_result"
    }
   ],
   "source": [
    "[display_map.get(item,item)  for item in test]"
   ]
  },
  {
   "cell_type": "code",
   "execution_count": null,
   "id": "f01bda26-5a0b-498b-b62e-b291feafa5c1",
   "metadata": {},
   "outputs": [],
   "source": []
  }
 ],
 "metadata": {
  "kernelspec": {
   "display_name": "Python 3 (ipykernel)",
   "language": "python",
   "name": "python3"
  },
  "language_info": {
   "codemirror_mode": {
    "name": "ipython",
    "version": 3
   },
   "file_extension": ".py",
   "mimetype": "text/x-python",
   "name": "python",
   "nbconvert_exporter": "python",
   "pygments_lexer": "ipython3",
   "version": "3.9.7"
  }
 },
 "nbformat": 4,
 "nbformat_minor": 5
}
