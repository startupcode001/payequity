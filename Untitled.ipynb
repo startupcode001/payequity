{
 "cells": [
  {
   "cell_type": "code",
   "execution_count": 6,
   "id": "963e703f-ed74-4f72-897f-856b9ee68320",
   "metadata": {},
   "outputs": [],
   "source": [
    "import streamlit as st\n",
    "import pandas as pd\n",
    "import numpy as np\n",
    "\n",
    "from patsy import dmatrices\n",
    "import statsmodels.api as sm\n",
    "from sklearn.metrics import r2_score, mean_squared_error, mean_absolute_error\n",
    "from statsmodels.sandbox.regression.predstd import wls_prediction_std\n",
    "\n",
    "import matplotlib as mpl\n",
    "import matplotlib.pyplot as plt\n",
    "import seaborn as sns\n",
    "import base64\n",
    "import os\n",
    "\n",
    "import locale\n",
    "\n",
    "from PE_Functions import *\n",
    "from pathlib import Path\n",
    "\n",
    "import xlsxwriter\n",
    "from io import BytesIO"
   ]
  },
  {
   "cell_type": "code",
   "execution_count": 9,
   "id": "e4f6a7e3-4b0f-49e7-afb8-12254c4d25b5",
   "metadata": {},
   "outputs": [],
   "source": [
    "df_name = pd.read_excel(r'Data\\Display Name.xlsx',sheet_name=\"Sheet1\")"
   ]
  },
  {
   "cell_type": "code",
   "execution_count": 14,
   "id": "7eb40814-dfe4-469d-9779-d4feaabb80de",
   "metadata": {},
   "outputs": [
    {
     "data": {
      "text/plain": [
       "{'SNAPSHOT_DATE': 'Snapshot Date',\n",
       " 'EEID': 'Employee ID',\n",
       " 'SALARY': 'Salary',\n",
       " 'GENDER': 'Gender',\n",
       " 'ETHNICITY': 'Ethnicity',\n",
       " 'JOB_LEVEL_OR_COMP_GRADE': 'Job level or Compensation Grade',\n",
       " 'JOB_FUNCTION': 'Job Function',\n",
       " 'LOCATION': 'Location',\n",
       " 'FULL_TIME': 'Full time status',\n",
       " 'FLSA_EXEMPT': 'FLSA status',\n",
       " 'PEOPLE_MANAGER': 'Is Manager?',\n",
       " 'EDUCATION': 'Education',\n",
       " 'PROMOTION': 'Promotion in last 12 months?',\n",
       " 'PERFORMANCE': 'Performance in last 12 months',\n",
       " 'DATE_OF_BIRTH': 'Date of Birth',\n",
       " 'DATE_OF_HIRE': 'Date of Hire'}"
      ]
     },
     "execution_count": 14,
     "metadata": {},
     "output_type": "execute_result"
    }
   ],
   "source": [
    "display_map = dict(zip(df_name['PROGRAM_NAME'], df_name['DISPLAY_NAME']))\n",
    "display_map"
   ]
  },
  {
   "cell_type": "code",
   "execution_count": 12,
   "id": "acf217eb-6e4f-4f31-8d26-31ee43dd482a",
   "metadata": {},
   "outputs": [],
   "source": [
    "test = ['EEID','PEOPLE_MANAGER','DATE_OF_HIRE']"
   ]
  },
  {
   "cell_type": "code",
   "execution_count": 17,
   "id": "2749ec94-2de0-473e-a2ec-8cbd96fad16f",
   "metadata": {},
   "outputs": [],
   "source": [
    "subs = {v:k for k, v in display_map.items()}"
   ]
  },
  {
   "cell_type": "code",
   "execution_count": 19,
   "id": "26a54f96-17ab-4ed6-900d-2649b309f8c4",
   "metadata": {},
   "outputs": [
    {
     "data": {
      "text/plain": [
       "['Employee ID', 'Is Manager?', 'Date of Hire']"
      ]
     },
     "execution_count": 19,
     "metadata": {},
     "output_type": "execute_result"
    }
   ],
   "source": [
    "[display_map.get(item,item)  for item in test]"
   ]
  },
  {
   "cell_type": "code",
   "execution_count": null,
   "id": "f01bda26-5a0b-498b-b62e-b291feafa5c1",
   "metadata": {},
   "outputs": [],
   "source": []
  }
 ],
 "metadata": {
  "kernelspec": {
   "display_name": "Python 3 (ipykernel)",
   "language": "python",
   "name": "python3"
  },
  "language_info": {
   "codemirror_mode": {
    "name": "ipython",
    "version": 3
   },
   "file_extension": ".py",
   "mimetype": "text/x-python",
   "name": "python",
   "nbconvert_exporter": "python",
   "pygments_lexer": "ipython3",
   "version": "3.9.7"
  }
 },
 "nbformat": 4,
 "nbformat_minor": 5
}
